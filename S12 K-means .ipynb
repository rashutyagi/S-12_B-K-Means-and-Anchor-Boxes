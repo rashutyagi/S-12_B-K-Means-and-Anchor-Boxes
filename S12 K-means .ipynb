{
 "cells": [
  {
   "cell_type": "code",
   "execution_count": 8,
   "metadata": {},
   "outputs": [],
   "source": [
    "import tqdm"
   ]
  },
  {
   "cell_type": "code",
   "execution_count": 7,
   "metadata": {},
   "outputs": [],
   "source": [
    "path = r'C:\\Users\\RASHU TYAGI\\EVA 4 Phase 1\\Session 12\\Session 12 Part B'"
   ]
  },
  {
   "cell_type": "code",
   "execution_count": 11,
   "metadata": {},
   "outputs": [],
   "source": [
    "import json\n",
    "annot = json.load(open('Dogs_annotation.json'))"
   ]
  },
  {
   "cell_type": "code",
   "execution_count": 28,
   "metadata": {},
   "outputs": [],
   "source": [
    "path_dogs = r'C:\\Users\\RASHU TYAGI\\EVA 4 Phase 1\\Session 12\\Session 12 Part B\\Dogs Images For Annotations/'"
   ]
  },
  {
   "cell_type": "code",
   "execution_count": 29,
   "metadata": {},
   "outputs": [
    {
     "name": "stdout",
     "output_type": "stream",
     "text": [
      "C:\\Users\\RASHU TYAGI\\EVA 4 Phase 1\\Session 12\\Session 12 Part B\\Dogs Images For Annotations/1.jpg\n",
      "C:\\Users\\RASHU TYAGI\\EVA 4 Phase 1\\Session 12\\Session 12 Part B\\Dogs Images For Annotations/10.jpg\n",
      "C:\\Users\\RASHU TYAGI\\EVA 4 Phase 1\\Session 12\\Session 12 Part B\\Dogs Images For Annotations/11.jpg\n",
      "C:\\Users\\RASHU TYAGI\\EVA 4 Phase 1\\Session 12\\Session 12 Part B\\Dogs Images For Annotations/12.jpg\n",
      "C:\\Users\\RASHU TYAGI\\EVA 4 Phase 1\\Session 12\\Session 12 Part B\\Dogs Images For Annotations/13.jpg\n",
      "C:\\Users\\RASHU TYAGI\\EVA 4 Phase 1\\Session 12\\Session 12 Part B\\Dogs Images For Annotations/14.jpg\n",
      "C:\\Users\\RASHU TYAGI\\EVA 4 Phase 1\\Session 12\\Session 12 Part B\\Dogs Images For Annotations/15.jpg\n",
      "C:\\Users\\RASHU TYAGI\\EVA 4 Phase 1\\Session 12\\Session 12 Part B\\Dogs Images For Annotations/16.jpg\n",
      "C:\\Users\\RASHU TYAGI\\EVA 4 Phase 1\\Session 12\\Session 12 Part B\\Dogs Images For Annotations/17.jpg\n",
      "C:\\Users\\RASHU TYAGI\\EVA 4 Phase 1\\Session 12\\Session 12 Part B\\Dogs Images For Annotations/18.jpg\n",
      "C:\\Users\\RASHU TYAGI\\EVA 4 Phase 1\\Session 12\\Session 12 Part B\\Dogs Images For Annotations/19.jpg\n",
      "C:\\Users\\RASHU TYAGI\\EVA 4 Phase 1\\Session 12\\Session 12 Part B\\Dogs Images For Annotations/2.jpg\n",
      "C:\\Users\\RASHU TYAGI\\EVA 4 Phase 1\\Session 12\\Session 12 Part B\\Dogs Images For Annotations/20.jpg\n",
      "C:\\Users\\RASHU TYAGI\\EVA 4 Phase 1\\Session 12\\Session 12 Part B\\Dogs Images For Annotations/21.jpg\n",
      "C:\\Users\\RASHU TYAGI\\EVA 4 Phase 1\\Session 12\\Session 12 Part B\\Dogs Images For Annotations/22.jpg\n",
      "C:\\Users\\RASHU TYAGI\\EVA 4 Phase 1\\Session 12\\Session 12 Part B\\Dogs Images For Annotations/23.jpg\n",
      "C:\\Users\\RASHU TYAGI\\EVA 4 Phase 1\\Session 12\\Session 12 Part B\\Dogs Images For Annotations/24.jpg\n",
      "C:\\Users\\RASHU TYAGI\\EVA 4 Phase 1\\Session 12\\Session 12 Part B\\Dogs Images For Annotations/25.jpg\n",
      "C:\\Users\\RASHU TYAGI\\EVA 4 Phase 1\\Session 12\\Session 12 Part B\\Dogs Images For Annotations/26.jpg\n",
      "C:\\Users\\RASHU TYAGI\\EVA 4 Phase 1\\Session 12\\Session 12 Part B\\Dogs Images For Annotations/27.jpg\n",
      "C:\\Users\\RASHU TYAGI\\EVA 4 Phase 1\\Session 12\\Session 12 Part B\\Dogs Images For Annotations/28.jpg\n",
      "C:\\Users\\RASHU TYAGI\\EVA 4 Phase 1\\Session 12\\Session 12 Part B\\Dogs Images For Annotations/29.jpg\n",
      "C:\\Users\\RASHU TYAGI\\EVA 4 Phase 1\\Session 12\\Session 12 Part B\\Dogs Images For Annotations/3.jpg\n",
      "C:\\Users\\RASHU TYAGI\\EVA 4 Phase 1\\Session 12\\Session 12 Part B\\Dogs Images For Annotations/30.jpg\n",
      "C:\\Users\\RASHU TYAGI\\EVA 4 Phase 1\\Session 12\\Session 12 Part B\\Dogs Images For Annotations/31.jpg\n",
      "C:\\Users\\RASHU TYAGI\\EVA 4 Phase 1\\Session 12\\Session 12 Part B\\Dogs Images For Annotations/32.jpg\n",
      "C:\\Users\\RASHU TYAGI\\EVA 4 Phase 1\\Session 12\\Session 12 Part B\\Dogs Images For Annotations/33.jpg\n",
      "C:\\Users\\RASHU TYAGI\\EVA 4 Phase 1\\Session 12\\Session 12 Part B\\Dogs Images For Annotations/34.jpg\n",
      "C:\\Users\\RASHU TYAGI\\EVA 4 Phase 1\\Session 12\\Session 12 Part B\\Dogs Images For Annotations/35.jpg\n",
      "C:\\Users\\RASHU TYAGI\\EVA 4 Phase 1\\Session 12\\Session 12 Part B\\Dogs Images For Annotations/36.jpg\n",
      "C:\\Users\\RASHU TYAGI\\EVA 4 Phase 1\\Session 12\\Session 12 Part B\\Dogs Images For Annotations/37.jpg\n",
      "C:\\Users\\RASHU TYAGI\\EVA 4 Phase 1\\Session 12\\Session 12 Part B\\Dogs Images For Annotations/38.jpg\n",
      "C:\\Users\\RASHU TYAGI\\EVA 4 Phase 1\\Session 12\\Session 12 Part B\\Dogs Images For Annotations/39.jpg\n",
      "C:\\Users\\RASHU TYAGI\\EVA 4 Phase 1\\Session 12\\Session 12 Part B\\Dogs Images For Annotations/4.jpg\n",
      "C:\\Users\\RASHU TYAGI\\EVA 4 Phase 1\\Session 12\\Session 12 Part B\\Dogs Images For Annotations/40.jpg\n",
      "C:\\Users\\RASHU TYAGI\\EVA 4 Phase 1\\Session 12\\Session 12 Part B\\Dogs Images For Annotations/41.jpg\n",
      "C:\\Users\\RASHU TYAGI\\EVA 4 Phase 1\\Session 12\\Session 12 Part B\\Dogs Images For Annotations/42.jpg\n",
      "C:\\Users\\RASHU TYAGI\\EVA 4 Phase 1\\Session 12\\Session 12 Part B\\Dogs Images For Annotations/43.jpg\n",
      "C:\\Users\\RASHU TYAGI\\EVA 4 Phase 1\\Session 12\\Session 12 Part B\\Dogs Images For Annotations/44.jpg\n",
      "C:\\Users\\RASHU TYAGI\\EVA 4 Phase 1\\Session 12\\Session 12 Part B\\Dogs Images For Annotations/45.jpg\n",
      "C:\\Users\\RASHU TYAGI\\EVA 4 Phase 1\\Session 12\\Session 12 Part B\\Dogs Images For Annotations/46.jpg\n",
      "C:\\Users\\RASHU TYAGI\\EVA 4 Phase 1\\Session 12\\Session 12 Part B\\Dogs Images For Annotations/47.jpg\n",
      "C:\\Users\\RASHU TYAGI\\EVA 4 Phase 1\\Session 12\\Session 12 Part B\\Dogs Images For Annotations/48.jpg\n",
      "C:\\Users\\RASHU TYAGI\\EVA 4 Phase 1\\Session 12\\Session 12 Part B\\Dogs Images For Annotations/49.jpg\n",
      "C:\\Users\\RASHU TYAGI\\EVA 4 Phase 1\\Session 12\\Session 12 Part B\\Dogs Images For Annotations/5.jpg\n",
      "C:\\Users\\RASHU TYAGI\\EVA 4 Phase 1\\Session 12\\Session 12 Part B\\Dogs Images For Annotations/50.jpg\n",
      "C:\\Users\\RASHU TYAGI\\EVA 4 Phase 1\\Session 12\\Session 12 Part B\\Dogs Images For Annotations/6.jpg\n",
      "C:\\Users\\RASHU TYAGI\\EVA 4 Phase 1\\Session 12\\Session 12 Part B\\Dogs Images For Annotations/7.jpg\n",
      "C:\\Users\\RASHU TYAGI\\EVA 4 Phase 1\\Session 12\\Session 12 Part B\\Dogs Images For Annotations/8.jpg\n",
      "C:\\Users\\RASHU TYAGI\\EVA 4 Phase 1\\Session 12\\Session 12 Part B\\Dogs Images For Annotations/9.jpg\n"
     ]
    }
   ],
   "source": [
    "for filename in os.listdir(path_dogs):\n",
    "    print(f'{path_dogs}{filename}')"
   ]
  },
  {
   "cell_type": "code",
   "execution_count": 30,
   "metadata": {},
   "outputs": [],
   "source": [
    "import os\n",
    "from skimage import io\n",
    "sizedict = {}\n",
    "for filename in os.listdir(path_dogs):\n",
    "    image = io.imread(f'{path_dogs}{filename}', as_gray=False, pilmode=\"RGB\")\n",
    "    sizedict[filename] = image.shape[:2]"
   ]
  },
  {
   "cell_type": "code",
   "execution_count": 36,
   "metadata": {},
   "outputs": [
    {
     "name": "stdout",
     "output_type": "stream",
     "text": [
      "['1.jpg', '10.jpg', '11.jpg', '12.jpg', '13.jpg', '14.jpg', '15.jpg', '16.jpg', '17.jpg', '18.jpg']\n"
     ]
    }
   ],
   "source": [
    "# Displaying what sizedict dictionary has\n",
    "from itertools import islice\n",
    "\n",
    "def take(n, iterable):\n",
    "    \"Return first n items of the iterable as a list\"\n",
    "    return list(islice(iterable, n))\n",
    "\n",
    "print(take(10,sizedict))"
   ]
  },
  {
   "cell_type": "code",
   "execution_count": 13,
   "metadata": {},
   "outputs": [
    {
     "name": "stdout",
     "output_type": "stream",
     "text": [
      "1.jpg2275\n",
      "2.jpg1675\n",
      "3.jpg4234\n",
      "4.jpg8113\n",
      "5.jpg8431\n",
      "6.jpg6029\n",
      "7.jpg1967\n",
      "8.jpg2329\n",
      "9.jpg2680\n",
      "10.jpg2735\n",
      "11.jpg3077\n",
      "12.jpg2412\n",
      "13.jpg2744\n",
      "14.jpg4174\n",
      "15.jpg2186\n",
      "16.jpg2501\n",
      "17.jpg2835\n",
      "18.jpg3021\n",
      "19.jpg2173\n",
      "20.jpg3464\n",
      "21.jpg9715\n",
      "22.jpg5114\n",
      "23.jpg8508\n",
      "24.jpg8914\n",
      "25.jpg5995\n",
      "26.jpg5909\n",
      "27.jpg8430\n",
      "28.jpg9311\n",
      "29.jpg9992\n",
      "30.jpg6174\n",
      "31.jpg5724\n",
      "32.jpg6598\n",
      "33.jpg9151\n",
      "34.jpg6586\n",
      "35.jpg11249\n",
      "36.jpg8179\n",
      "37.jpg7503\n",
      "38.jpg6415\n",
      "39.jpg8467\n",
      "40.jpg10523\n",
      "41.jpg8268\n",
      "42.jpg2815\n",
      "43.jpg2715\n",
      "44.jpg3039\n",
      "45.jpg4089\n",
      "46.jpg1623\n",
      "47.jpg7509\n",
      "48.jpg4462\n",
      "49.jpg8782\n",
      "50.jpg2041\n"
     ]
    }
   ],
   "source": [
    "# in this manner you can get the data from json file it acts like a dictionary\n",
    "for k,v in annot.items():\n",
    "    print(k)"
   ]
  },
  {
   "cell_type": "code",
   "execution_count": 14,
   "metadata": {},
   "outputs": [
    {
     "name": "stdout",
     "output_type": "stream",
     "text": [
      "{'filename': '1.jpg', 'size': 2275, 'regions': [{'shape_attributes': {'name': 'rect', 'x': 4, 'y': 5, 'width': 89, 'height': 90}, 'region_attributes': {'name': 'Dog', 'type': 'Animal', 'image_quality': {'good': True, 'frontal': True, 'good_illumination': True}, 'Class': 'Dog'}}], 'file_attributes': {'caption': '', 'public_domain': 'no', 'image_url': ''}}\n",
      "{'filename': '2.jpg', 'size': 1675, 'regions': [{'shape_attributes': {'name': 'rect', 'x': 6, 'y': 10, 'width': 87, 'height': 76}, 'region_attributes': {'name': 'Dog', 'type': 'Animal', 'image_quality': {'good': True, 'frontal': True, 'good_illumination': True}, 'Class': 'Dog'}}], 'file_attributes': {'caption': '', 'public_domain': 'no', 'image_url': ''}}\n",
      "{'filename': '3.jpg', 'size': 4234, 'regions': [{'shape_attributes': {'name': 'rect', 'x': 18, 'y': 4, 'width': 240, 'height': 163}, 'region_attributes': {'name': 'Dog', 'type': 'Animal', 'image_quality': {'good': True, 'frontal': True, 'good_illumination': True}, 'Class': 'Dog'}}], 'file_attributes': {'caption': '', 'public_domain': 'no', 'image_url': ''}}\n",
      "{'filename': '4.jpg', 'size': 8113, 'regions': [{'shape_attributes': {'name': 'rect', 'x': 22, 'y': 8, 'width': 155, 'height': 242}, 'region_attributes': {'name': 'Dog', 'type': 'Animal', 'image_quality': {'good': True, 'frontal': True, 'good_illumination': True}, 'Class': 'Dog'}}], 'file_attributes': {'caption': '', 'public_domain': 'no', 'image_url': ''}}\n",
      "{'filename': '5.jpg', 'size': 8431, 'regions': [{'shape_attributes': {'name': 'rect', 'x': 34, 'y': 18, 'width': 167, 'height': 191}, 'region_attributes': {'name': 'Dog', 'type': 'Animal', 'image_quality': {'good': True, 'frontal': True, 'good_illumination': True}, 'Class': 'Dog'}}], 'file_attributes': {'caption': '', 'public_domain': 'no', 'image_url': ''}}\n",
      "{'filename': '6.jpg', 'size': 6029, 'regions': [{'shape_attributes': {'name': 'rect', 'x': 80, 'y': 29, 'width': 126, 'height': 130}, 'region_attributes': {'name': 'Dog', 'type': 'Animal', 'image_quality': {'good': True, 'frontal': True, 'good_illumination': True}, 'Class': 'Dog'}}], 'file_attributes': {'caption': '', 'public_domain': 'no', 'image_url': ''}}\n",
      "{'filename': '7.jpg', 'size': 1967, 'regions': [{'shape_attributes': {'name': 'rect', 'x': 12, 'y': 3, 'width': 75, 'height': 90}, 'region_attributes': {'name': 'Dog', 'type': 'Animal', 'image_quality': {'good': True, 'frontal': True, 'good_illumination': True}, 'Class': 'Dog'}}], 'file_attributes': {'caption': '', 'public_domain': 'no', 'image_url': ''}}\n",
      "{'filename': '8.jpg', 'size': 2329, 'regions': [{'shape_attributes': {'name': 'rect', 'x': 6, 'y': 7, 'width': 71, 'height': 89}, 'region_attributes': {'name': 'Dog', 'type': 'Animal', 'image_quality': {'good': True, 'frontal': True, 'good_illumination': True}, 'Class': 'Dog'}}], 'file_attributes': {'caption': '', 'public_domain': 'no', 'image_url': ''}}\n",
      "{'filename': '9.jpg', 'size': 2680, 'regions': [{'shape_attributes': {'name': 'rect', 'x': 8, 'y': 4, 'width': 83, 'height': 82}, 'region_attributes': {'name': 'Dog', 'type': 'Animal', 'image_quality': {'good': True, 'frontal': True, 'good_illumination': True}, 'Class': 'Dog'}}], 'file_attributes': {'caption': '', 'public_domain': 'no', 'image_url': ''}}\n",
      "{'filename': '10.jpg', 'size': 2735, 'regions': [{'shape_attributes': {'name': 'rect', 'x': 14, 'y': 4, 'width': 76, 'height': 85}, 'region_attributes': {'name': 'Dog', 'type': 'Animal', 'image_quality': {'good': True, 'frontal': True, 'good_illumination': True}, 'Class': 'Dog'}}], 'file_attributes': {'caption': '', 'public_domain': 'no', 'image_url': ''}}\n",
      "{'filename': '11.jpg', 'size': 3077, 'regions': [{'shape_attributes': {'name': 'rect', 'x': 3, 'y': 11, 'width': 79, 'height': 82}, 'region_attributes': {'name': 'Dog', 'type': 'Animal', 'image_quality': {'good': True, 'frontal': True, 'good_illumination': True}, 'Class': 'Dog'}}], 'file_attributes': {'caption': '', 'public_domain': 'no', 'image_url': ''}}\n",
      "{'filename': '12.jpg', 'size': 2412, 'regions': [{'shape_attributes': {'name': 'rect', 'x': 20, 'y': 16, 'width': 64, 'height': 78}, 'region_attributes': {'name': 'Dog', 'type': 'Animal', 'image_quality': {'good': True, 'frontal': True, 'good_illumination': True}, 'Class': 'Dog'}}], 'file_attributes': {'caption': '', 'public_domain': 'no', 'image_url': ''}}\n",
      "{'filename': '13.jpg', 'size': 2744, 'regions': [{'shape_attributes': {'name': 'rect', 'x': 18, 'y': 3, 'width': 78, 'height': 89}, 'region_attributes': {'name': 'Dog', 'type': 'Animal', 'image_quality': {'good': True, 'frontal': True, 'good_illumination': True}, 'Class': 'Dog'}}], 'file_attributes': {'caption': '', 'public_domain': 'no', 'image_url': ''}}\n",
      "{'filename': '14.jpg', 'size': 4174, 'regions': [{'shape_attributes': {'name': 'rect', 'x': 37, 'y': 22, 'width': 128, 'height': 161}, 'region_attributes': {'name': 'Dog', 'type': 'Animal', 'image_quality': {'good': True, 'frontal': True, 'good_illumination': True}, 'Class': 'Dog'}}], 'file_attributes': {'caption': '', 'public_domain': 'no', 'image_url': ''}}\n",
      "{'filename': '15.jpg', 'size': 2186, 'regions': [{'shape_attributes': {'name': 'rect', 'x': 12, 'y': 3, 'width': 75, 'height': 96}, 'region_attributes': {'name': 'Dog', 'type': 'Animal', 'image_quality': {'good': True, 'frontal': True, 'good_illumination': True}, 'Class': 'Dog'}}], 'file_attributes': {'caption': '', 'public_domain': 'no', 'image_url': ''}}\n",
      "{'filename': '16.jpg', 'size': 2501, 'regions': [{'shape_attributes': {'name': 'rect', 'x': 16, 'y': 10, 'width': 77, 'height': 80}, 'region_attributes': {'name': 'Dog', 'type': 'Animal', 'image_quality': {'good': True, 'frontal': True, 'good_illumination': True}, 'Class': 'Dog'}}], 'file_attributes': {'caption': '', 'public_domain': 'no', 'image_url': ''}}\n",
      "{'filename': '17.jpg', 'size': 2835, 'regions': [{'shape_attributes': {'name': 'rect', 'x': 4, 'y': 18, 'width': 78, 'height': 62}, 'region_attributes': {'name': 'Dog', 'type': 'Animal', 'image_quality': {'good': True, 'frontal': True, 'good_illumination': True}, 'Class': 'Dog'}}], 'file_attributes': {'caption': '', 'public_domain': 'no', 'image_url': ''}}\n",
      "{'filename': '18.jpg', 'size': 3021, 'regions': [{'shape_attributes': {'name': 'rect', 'x': 2, 'y': 1, 'width': 87, 'height': 94}, 'region_attributes': {'name': 'Dog', 'type': 'Animal', 'image_quality': {'good': True, 'frontal': True, 'good_illumination': True}, 'Class': 'Dog'}}], 'file_attributes': {'caption': '', 'public_domain': 'no', 'image_url': ''}}\n",
      "{'filename': '19.jpg', 'size': 2173, 'regions': [{'shape_attributes': {'name': 'rect', 'x': 5, 'y': 6, 'width': 90, 'height': 93}, 'region_attributes': {'name': 'Dog', 'type': 'Animal', 'image_quality': {'good': True, 'frontal': True, 'good_illumination': True}, 'Class': 'Dog'}}], 'file_attributes': {'caption': '', 'public_domain': 'no', 'image_url': ''}}\n",
      "{'filename': '20.jpg', 'size': 3464, 'regions': [{'shape_attributes': {'name': 'rect', 'x': 5, 'y': 6, 'width': 92, 'height': 86}, 'region_attributes': {'name': 'Dog', 'type': 'Animal', 'image_quality': {'good': True, 'frontal': True, 'good_illumination': True}, 'Class': 'Dog'}}], 'file_attributes': {'caption': '', 'public_domain': 'no', 'image_url': ''}}\n",
      "{'filename': '21.jpg', 'size': 9715, 'regions': [{'shape_attributes': {'name': 'rect', 'x': 6, 'y': 52, 'width': 276, 'height': 66}, 'region_attributes': {'name': 'Dog', 'type': 'Animal', 'image_quality': {'good': True, 'frontal': True, 'good_illumination': True}, 'Class': 'Dog'}}], 'file_attributes': {'caption': '', 'public_domain': 'no', 'image_url': ''}}\n",
      "{'filename': '22.jpg', 'size': 5114, 'regions': [{'shape_attributes': {'name': 'rect', 'x': 20, 'y': 29, 'width': 152, 'height': 160}, 'region_attributes': {'name': 'Dog', 'type': 'Animal', 'image_quality': {'good': True, 'frontal': True, 'good_illumination': True}, 'Class': 'Dog'}}], 'file_attributes': {'caption': '', 'public_domain': 'no', 'image_url': ''}}\n"
     ]
    },
    {
     "name": "stdout",
     "output_type": "stream",
     "text": [
      "{'filename': '23.jpg', 'size': 8508, 'regions': [{'shape_attributes': {'name': 'rect', 'x': 6, 'y': 2, 'width': 223, 'height': 173}, 'region_attributes': {'name': 'Dog', 'type': 'Animal', 'image_quality': {'good': True, 'frontal': True, 'good_illumination': True}, 'Class': 'Dog'}}], 'file_attributes': {'caption': '', 'public_domain': 'no', 'image_url': ''}}\n",
      "{'filename': '24.jpg', 'size': 8914, 'regions': [{'shape_attributes': {'name': 'rect', 'x': 24, 'y': 15, 'width': 214, 'height': 156}, 'region_attributes': {'name': 'Dog', 'type': 'Animal', 'image_quality': {'good': True, 'frontal': True, 'good_illumination': True}, 'Class': 'Dog'}}], 'file_attributes': {'caption': '', 'public_domain': 'no', 'image_url': ''}}\n",
      "{'filename': '25.jpg', 'size': 5995, 'regions': [{'shape_attributes': {'name': 'rect', 'x': 48, 'y': 14, 'width': 169, 'height': 152}, 'region_attributes': {'name': 'Dog', 'type': 'Animal', 'image_quality': {'good': True, 'frontal': True, 'good_illumination': True}, 'Class': 'Dog'}}], 'file_attributes': {'caption': '', 'public_domain': 'no', 'image_url': ''}}\n",
      "{'filename': '26.jpg', 'size': 5909, 'regions': [{'shape_attributes': {'name': 'rect', 'x': 45, 'y': 9, 'width': 120, 'height': 151}, 'region_attributes': {'name': 'Dog', 'type': 'Animal', 'image_quality': {'good': True, 'frontal': True, 'good_illumination': True}, 'Class': 'Dog'}}], 'file_attributes': {'caption': '', 'public_domain': 'no', 'image_url': ''}}\n",
      "{'filename': '27.jpg', 'size': 8430, 'regions': [{'shape_attributes': {'name': 'rect', 'x': 67, 'y': 12, 'width': 147, 'height': 155}, 'region_attributes': {'name': 'Dog', 'type': 'Animal', 'image_quality': {'good': True, 'frontal': True, 'good_illumination': True}, 'Class': 'Dog'}}], 'file_attributes': {'caption': '', 'public_domain': 'no', 'image_url': ''}}\n",
      "{'filename': '28.jpg', 'size': 9311, 'regions': [{'shape_attributes': {'name': 'rect', 'x': 1, 'y': 12, 'width': 268, 'height': 138}, 'region_attributes': {'name': 'Dog', 'type': 'Animal', 'image_quality': {'good': True, 'frontal': True, 'good_illumination': True}, 'Class': 'Dog'}}], 'file_attributes': {'caption': '', 'public_domain': 'no', 'image_url': ''}}\n",
      "{'filename': '29.jpg', 'size': 9992, 'regions': [{'shape_attributes': {'name': 'rect', 'x': 23, 'y': 22, 'width': 203, 'height': 125}, 'region_attributes': {'name': 'Dog', 'type': 'Animal', 'image_quality': {'good': True, 'frontal': True, 'good_illumination': True}, 'Class': 'Dog'}}], 'file_attributes': {'caption': '', 'public_domain': 'no', 'image_url': ''}}\n",
      "{'filename': '30.jpg', 'size': 6174, 'regions': [{'shape_attributes': {'name': 'rect', 'x': 76, 'y': 16, 'width': 197, 'height': 117}, 'region_attributes': {'name': 'Dog', 'type': 'Animal', 'image_quality': {'good': True, 'frontal': True, 'good_illumination': True}, 'Class': 'Dog'}}], 'file_attributes': {'caption': '', 'public_domain': 'no', 'image_url': ''}}\n",
      "{'filename': '31.jpg', 'size': 5724, 'regions': [{'shape_attributes': {'name': 'rect', 'x': 12, 'y': 11, 'width': 205, 'height': 158}, 'region_attributes': {'name': 'Dog', 'type': 'Animal', 'image_quality': {'good': True, 'frontal': True, 'good_illumination': True}, 'Class': 'Dog'}}], 'file_attributes': {'caption': '', 'public_domain': 'no', 'image_url': ''}}\n",
      "{'filename': '32.jpg', 'size': 6598, 'regions': [{'shape_attributes': {'name': 'rect', 'x': 50, 'y': 16, 'width': 135, 'height': 178}, 'region_attributes': {'name': 'Dog', 'type': 'Animal', 'image_quality': {'good': True, 'frontal': True, 'good_illumination': True}, 'Class': 'Dog'}}], 'file_attributes': {'caption': '', 'public_domain': 'no', 'image_url': ''}}\n",
      "{'filename': '33.jpg', 'size': 9151, 'regions': [{'shape_attributes': {'name': 'rect', 'x': 116, 'y': 40, 'width': 107, 'height': 168}, 'region_attributes': {'name': 'Dog', 'type': 'Animal', 'image_quality': {'good': True, 'frontal': True, 'good_illumination': True}, 'Class': 'Dog'}}], 'file_attributes': {'caption': '', 'public_domain': 'no', 'image_url': ''}}\n",
      "{'filename': '34.jpg', 'size': 6586, 'regions': [{'shape_attributes': {'name': 'rect', 'x': 54, 'y': 14, 'width': 185, 'height': 172}, 'region_attributes': {'name': 'Dog', 'type': 'Animal', 'image_quality': {'good': True, 'frontal': True, 'good_illumination': True}, 'Class': 'Dog'}}], 'file_attributes': {'caption': '', 'public_domain': 'no', 'image_url': ''}}\n",
      "{'filename': '35.jpg', 'size': 11249, 'regions': [{'shape_attributes': {'name': 'rect', 'x': 34, 'y': 2, 'width': 252, 'height': 161}, 'region_attributes': {'name': 'Dog', 'type': 'Animal', 'image_quality': {'good': True, 'frontal': True, 'good_illumination': True}, 'Class': 'Dog'}}], 'file_attributes': {'caption': '', 'public_domain': 'no', 'image_url': ''}}\n",
      "{'filename': '36.jpg', 'size': 8179, 'regions': [{'shape_attributes': {'name': 'rect', 'x': 72, 'y': 26, 'width': 110, 'height': 127}, 'region_attributes': {'name': 'Dog', 'type': 'Animal', 'image_quality': {'good': True, 'frontal': True, 'good_illumination': True}, 'Class': 'Dog'}}], 'file_attributes': {'caption': '', 'public_domain': 'no', 'image_url': ''}}\n",
      "{'filename': '37.jpg', 'size': 7503, 'regions': [{'shape_attributes': {'name': 'rect', 'x': 81, 'y': 28, 'width': 103, 'height': 118}, 'region_attributes': {'name': 'Dog', 'type': 'Animal', 'image_quality': {'good': True, 'frontal': True, 'good_illumination': True}, 'Class': 'Dog'}}], 'file_attributes': {'caption': '', 'public_domain': 'no', 'image_url': ''}}\n",
      "{'filename': '38.jpg', 'size': 6415, 'regions': [{'shape_attributes': {'name': 'rect', 'x': 34, 'y': 23, 'width': 162, 'height': 143}, 'region_attributes': {'name': 'Dog', 'type': 'Animal', 'image_quality': {'good': True, 'frontal': True, 'good_illumination': True}, 'Class': 'Dog'}}], 'file_attributes': {'caption': '', 'public_domain': 'no', 'image_url': ''}}\n",
      "{'filename': '39.jpg', 'size': 8467, 'regions': [{'shape_attributes': {'name': 'rect', 'x': 28, 'y': 16, 'width': 238, 'height': 160}, 'region_attributes': {'name': 'Dog', 'type': 'Animal', 'image_quality': {'good': True, 'frontal': True, 'good_illumination': True}, 'Class': 'Dog'}}], 'file_attributes': {'caption': '', 'public_domain': 'no', 'image_url': ''}}\n",
      "{'filename': '40.jpg', 'size': 10523, 'regions': [{'shape_attributes': {'name': 'rect', 'x': 7, 'y': 23, 'width': 250, 'height': 116}, 'region_attributes': {'name': 'Dog', 'type': 'Animal', 'image_quality': {'good': True, 'frontal': True, 'good_illumination': True}, 'Class': 'Dog'}}], 'file_attributes': {'caption': '', 'public_domain': 'no', 'image_url': ''}}\n",
      "{'filename': '41.jpg', 'size': 8268, 'regions': [{'shape_attributes': {'name': 'rect', 'x': 46, 'y': 20, 'width': 204, 'height': 142}, 'region_attributes': {'name': 'Dog', 'type': 'Animal', 'image_quality': {'good': True, 'frontal': True, 'good_illumination': True}, 'Class': 'Dog'}}], 'file_attributes': {'caption': '', 'public_domain': 'no', 'image_url': ''}}\n",
      "{'filename': '42.jpg', 'size': 2815, 'regions': [{'shape_attributes': {'name': 'rect', 'x': 6, 'y': 5, 'width': 85, 'height': 86}, 'region_attributes': {'name': 'Dog', 'type': 'Animal', 'image_quality': {'good': True, 'frontal': True, 'good_illumination': True}, 'Class': 'Dog'}}], 'file_attributes': {'caption': '', 'public_domain': 'no', 'image_url': ''}}\n",
      "{'filename': '43.jpg', 'size': 2715, 'regions': [{'shape_attributes': {'name': 'rect', 'x': 13, 'y': 15, 'width': 75, 'height': 64}, 'region_attributes': {'name': 'Dog', 'type': 'Animal', 'image_quality': {'good': True, 'frontal': True, 'good_illumination': True}, 'Class': 'Dog'}}], 'file_attributes': {'caption': '', 'public_domain': 'no', 'image_url': ''}}\n",
      "{'filename': '44.jpg', 'size': 3039, 'regions': [{'shape_attributes': {'name': 'rect', 'x': 18, 'y': 11, 'width': 56, 'height': 77}, 'region_attributes': {'name': 'Dog', 'type': 'Animal', 'image_quality': {'good': True, 'frontal': True, 'good_illumination': True}, 'Class': 'Dog'}}], 'file_attributes': {'caption': '', 'public_domain': 'no', 'image_url': ''}}\n"
     ]
    },
    {
     "name": "stdout",
     "output_type": "stream",
     "text": [
      "{'filename': '45.jpg', 'size': 4089, 'regions': [{'shape_attributes': {'name': 'rect', 'x': 36, 'y': 24, 'width': 160, 'height': 148}, 'region_attributes': {'name': 'Dog', 'type': 'Animal', 'image_quality': {'good': True, 'frontal': True, 'good_illumination': True}, 'Class': 'Dog'}}], 'file_attributes': {'caption': '', 'public_domain': 'no', 'image_url': ''}}\n",
      "{'filename': '46.jpg', 'size': 1623, 'regions': [{'shape_attributes': {'name': 'rect', 'x': 7, 'y': 6, 'width': 88, 'height': 86}, 'region_attributes': {'name': 'Dog', 'type': 'Animal', 'image_quality': {'good': True, 'frontal': True, 'good_illumination': True}, 'Class': 'Dog'}}], 'file_attributes': {'caption': '', 'public_domain': 'no', 'image_url': ''}}\n",
      "{'filename': '47.jpg', 'size': 7509, 'regions': [{'shape_attributes': {'name': 'rect', 'x': 52, 'y': 16, 'width': 154, 'height': 159}, 'region_attributes': {'name': 'Dog', 'type': 'Animal', 'image_quality': {'good': True, 'frontal': True, 'good_illumination': True}, 'Class': 'Dog'}}], 'file_attributes': {'caption': '', 'public_domain': 'no', 'image_url': ''}}\n",
      "{'filename': '48.jpg', 'size': 4462, 'regions': [{'shape_attributes': {'name': 'rect', 'x': 8, 'y': 4, 'width': 183, 'height': 130}, 'region_attributes': {'name': 'Dog', 'type': 'Animal', 'image_quality': {'good': True, 'frontal': True, 'good_illumination': True}, 'Class': 'Dog'}}], 'file_attributes': {'caption': '', 'public_domain': 'no', 'image_url': ''}}\n",
      "{'filename': '49.jpg', 'size': 8782, 'regions': [{'shape_attributes': {'name': 'rect', 'x': 80, 'y': 9, 'width': 109, 'height': 175}, 'region_attributes': {'name': 'Dog', 'type': 'Animal', 'image_quality': {'good': True, 'frontal': True, 'good_illumination': True}, 'Class': 'Dog'}}], 'file_attributes': {'caption': '', 'public_domain': 'no', 'image_url': ''}}\n",
      "{'filename': '50.jpg', 'size': 2041, 'regions': [{'shape_attributes': {'name': 'rect', 'x': 12, 'y': 4, 'width': 70, 'height': 85}, 'region_attributes': {'name': 'Dog', 'type': 'Animal', 'image_quality': {'good': True, 'frontal': True, 'good_illumination': True}, 'Class': 'Dog'}}], 'file_attributes': {'caption': '', 'public_domain': 'no', 'image_url': ''}}\n"
     ]
    }
   ],
   "source": [
    "for k,v in annot.items():\n",
    "    print(v)"
   ]
  },
  {
   "cell_type": "markdown",
   "metadata": {},
   "source": [
    "### Making the dataframe using pandas library in order to apply Kmeans Clustering algorithm"
   ]
  },
  {
   "cell_type": "code",
   "execution_count": 40,
   "metadata": {},
   "outputs": [
    {
     "data": {
      "text/html": [
       "<div>\n",
       "<style scoped>\n",
       "    .dataframe tbody tr th:only-of-type {\n",
       "        vertical-align: middle;\n",
       "    }\n",
       "\n",
       "    .dataframe tbody tr th {\n",
       "        vertical-align: top;\n",
       "    }\n",
       "\n",
       "    .dataframe thead th {\n",
       "        text-align: right;\n",
       "    }\n",
       "</style>\n",
       "<table border=\"1\" class=\"dataframe\">\n",
       "  <thead>\n",
       "    <tr style=\"text-align: right;\">\n",
       "      <th></th>\n",
       "      <th>h</th>\n",
       "      <th>height</th>\n",
       "      <th>image_h</th>\n",
       "      <th>image_w</th>\n",
       "      <th>log_height</th>\n",
       "      <th>log_width</th>\n",
       "      <th>name</th>\n",
       "      <th>w</th>\n",
       "      <th>width</th>\n",
       "      <th>x</th>\n",
       "      <th>y</th>\n",
       "    </tr>\n",
       "  </thead>\n",
       "  <tbody>\n",
       "    <tr>\n",
       "      <th>0</th>\n",
       "      <td>90</td>\n",
       "      <td>0.900000</td>\n",
       "      <td>100</td>\n",
       "      <td>100</td>\n",
       "      <td>-0.105361</td>\n",
       "      <td>-0.116534</td>\n",
       "      <td>1.jpg</td>\n",
       "      <td>89</td>\n",
       "      <td>0.890000</td>\n",
       "      <td>4</td>\n",
       "      <td>5</td>\n",
       "    </tr>\n",
       "    <tr>\n",
       "      <th>1</th>\n",
       "      <td>76</td>\n",
       "      <td>0.760000</td>\n",
       "      <td>100</td>\n",
       "      <td>100</td>\n",
       "      <td>-0.274437</td>\n",
       "      <td>-0.139262</td>\n",
       "      <td>2.jpg</td>\n",
       "      <td>87</td>\n",
       "      <td>0.870000</td>\n",
       "      <td>6</td>\n",
       "      <td>10</td>\n",
       "    </tr>\n",
       "    <tr>\n",
       "      <th>2</th>\n",
       "      <td>163</td>\n",
       "      <td>0.970238</td>\n",
       "      <td>168</td>\n",
       "      <td>300</td>\n",
       "      <td>-0.030214</td>\n",
       "      <td>0.356675</td>\n",
       "      <td>3.jpg</td>\n",
       "      <td>240</td>\n",
       "      <td>0.800000</td>\n",
       "      <td>18</td>\n",
       "      <td>4</td>\n",
       "    </tr>\n",
       "    <tr>\n",
       "      <th>3</th>\n",
       "      <td>242</td>\n",
       "      <td>0.934363</td>\n",
       "      <td>259</td>\n",
       "      <td>194</td>\n",
       "      <td>-0.067890</td>\n",
       "      <td>-0.513403</td>\n",
       "      <td>4.jpg</td>\n",
       "      <td>155</td>\n",
       "      <td>0.798969</td>\n",
       "      <td>22</td>\n",
       "      <td>8</td>\n",
       "    </tr>\n",
       "    <tr>\n",
       "      <th>4</th>\n",
       "      <td>191</td>\n",
       "      <td>0.848889</td>\n",
       "      <td>225</td>\n",
       "      <td>224</td>\n",
       "      <td>-0.163827</td>\n",
       "      <td>-0.298107</td>\n",
       "      <td>5.jpg</td>\n",
       "      <td>167</td>\n",
       "      <td>0.745536</td>\n",
       "      <td>34</td>\n",
       "      <td>18</td>\n",
       "    </tr>\n",
       "    <tr>\n",
       "      <th>5</th>\n",
       "      <td>130</td>\n",
       "      <td>0.710383</td>\n",
       "      <td>183</td>\n",
       "      <td>275</td>\n",
       "      <td>-0.341952</td>\n",
       "      <td>-0.373204</td>\n",
       "      <td>6.jpg</td>\n",
       "      <td>126</td>\n",
       "      <td>0.458182</td>\n",
       "      <td>80</td>\n",
       "      <td>29</td>\n",
       "    </tr>\n",
       "    <tr>\n",
       "      <th>6</th>\n",
       "      <td>90</td>\n",
       "      <td>0.900000</td>\n",
       "      <td>100</td>\n",
       "      <td>100</td>\n",
       "      <td>-0.105361</td>\n",
       "      <td>-0.287682</td>\n",
       "      <td>7.jpg</td>\n",
       "      <td>75</td>\n",
       "      <td>0.750000</td>\n",
       "      <td>12</td>\n",
       "      <td>3</td>\n",
       "    </tr>\n",
       "    <tr>\n",
       "      <th>7</th>\n",
       "      <td>89</td>\n",
       "      <td>0.890000</td>\n",
       "      <td>100</td>\n",
       "      <td>100</td>\n",
       "      <td>-0.116534</td>\n",
       "      <td>-0.342490</td>\n",
       "      <td>8.jpg</td>\n",
       "      <td>71</td>\n",
       "      <td>0.710000</td>\n",
       "      <td>6</td>\n",
       "      <td>7</td>\n",
       "    </tr>\n",
       "    <tr>\n",
       "      <th>8</th>\n",
       "      <td>82</td>\n",
       "      <td>0.820000</td>\n",
       "      <td>100</td>\n",
       "      <td>100</td>\n",
       "      <td>-0.198451</td>\n",
       "      <td>-0.186330</td>\n",
       "      <td>9.jpg</td>\n",
       "      <td>83</td>\n",
       "      <td>0.830000</td>\n",
       "      <td>8</td>\n",
       "      <td>4</td>\n",
       "    </tr>\n",
       "    <tr>\n",
       "      <th>9</th>\n",
       "      <td>85</td>\n",
       "      <td>0.850000</td>\n",
       "      <td>100</td>\n",
       "      <td>100</td>\n",
       "      <td>-0.162519</td>\n",
       "      <td>-0.274437</td>\n",
       "      <td>10.jpg</td>\n",
       "      <td>76</td>\n",
       "      <td>0.760000</td>\n",
       "      <td>14</td>\n",
       "      <td>4</td>\n",
       "    </tr>\n",
       "  </tbody>\n",
       "</table>\n",
       "</div>"
      ],
      "text/plain": [
       "     h    height  image_h  image_w  log_height  log_width    name    w  \\\n",
       "0   90  0.900000      100      100   -0.105361  -0.116534   1.jpg   89   \n",
       "1   76  0.760000      100      100   -0.274437  -0.139262   2.jpg   87   \n",
       "2  163  0.970238      168      300   -0.030214   0.356675   3.jpg  240   \n",
       "3  242  0.934363      259      194   -0.067890  -0.513403   4.jpg  155   \n",
       "4  191  0.848889      225      224   -0.163827  -0.298107   5.jpg  167   \n",
       "5  130  0.710383      183      275   -0.341952  -0.373204   6.jpg  126   \n",
       "6   90  0.900000      100      100   -0.105361  -0.287682   7.jpg   75   \n",
       "7   89  0.890000      100      100   -0.116534  -0.342490   8.jpg   71   \n",
       "8   82  0.820000      100      100   -0.198451  -0.186330   9.jpg   83   \n",
       "9   85  0.850000      100      100   -0.162519  -0.274437  10.jpg   76   \n",
       "\n",
       "      width   x   y  \n",
       "0  0.890000   4   5  \n",
       "1  0.870000   6  10  \n",
       "2  0.800000  18   4  \n",
       "3  0.798969  22   8  \n",
       "4  0.745536  34  18  \n",
       "5  0.458182  80  29  \n",
       "6  0.750000  12   3  \n",
       "7  0.710000   6   7  \n",
       "8  0.830000   8   4  \n",
       "9  0.760000  14   4  "
      ]
     },
     "execution_count": 40,
     "metadata": {},
     "output_type": "execute_result"
    }
   ],
   "source": [
    "import pandas as pd\n",
    "import math\n",
    "df = pd.DataFrame()\n",
    "data = []\n",
    "for k, v in annot.items():\n",
    "  for r in v['regions']:\n",
    "    d = {'name': v['filename'] }\n",
    "    s = r['shape_attributes']\n",
    "    h, w = sizedict[v['filename']]\n",
    "    d['h'] = s['height']\n",
    "    d['w'] = s['width']\n",
    "    d['x'] = s['x']\n",
    "    d['y'] = s['y']\n",
    "    d['image_w'] = w\n",
    "    d['image_h'] = h\n",
    "    d['height'] = s['height']/h # normalising the height and width\n",
    "    d['width'] = s['width']/w\n",
    "    d['log_height'] = math.log(s['height']/h)\n",
    "    d['log_width'] = math.log(s['width']/h)\n",
    "\n",
    "    data.append(d)\n",
    "\n",
    "\n",
    "df = pd.DataFrame.from_dict(data, orient='columns')\n",
    "df.head(10)"
   ]
  },
  {
   "cell_type": "code",
   "execution_count": 43,
   "metadata": {},
   "outputs": [],
   "source": [
    "%matplotlib inline"
   ]
  },
  {
   "cell_type": "code",
   "execution_count": 44,
   "metadata": {},
   "outputs": [
    {
     "data": {
      "text/plain": [
       "<matplotlib.axes._subplots.AxesSubplot at 0x15a8bfb3a20>"
      ]
     },
     "execution_count": 44,
     "metadata": {},
     "output_type": "execute_result"
    },
    {
     "data": {
      "image/png": "[encoded data removed]",
      "text/plain": [
       "<Figure size 432x288 with 1 Axes>"
      ]
     },
     "metadata": {
      "needs_background": "light"
     },
     "output_type": "display_data"
    }
   ],
   "source": [
    "df.plot.scatter('width', 'height')"
   ]
  },
  {
   "cell_type": "code",
   "execution_count": 45,
   "metadata": {},
   "outputs": [
    {
     "data": {
      "text/plain": [
       "<matplotlib.axes._subplots.AxesSubplot at 0x15a8c0114e0>"
      ]
     },
     "execution_count": 45,
     "metadata": {},
     "output_type": "execute_result"
    },
    {
     "data": {
      "image/png": "[encoded data removed]",
      "text/plain": [
       "<Figure size 432x288 with 1 Axes>"
      ]
     },
     "metadata": {
      "needs_background": "light"
     },
     "output_type": "display_data"
    }
   ],
   "source": [
    "# to get more dense data we use log over width and height -> this is just a mathematical fact\n",
    "\n",
    "df.plot.scatter('log_width', 'log_height')"
   ]
  },
  {
   "cell_type": "code",
   "execution_count": 47,
   "metadata": {},
   "outputs": [],
   "source": [
    "# Refer -> https://towardsdatascience.com/machine-learning-algorithms-part-9-k-means-example-in-python-f2ad05ed5203\n",
    "# for applying Kmeans Clustering "
   ]
  },
  {
   "cell_type": "code",
   "execution_count": 48,
   "metadata": {},
   "outputs": [],
   "source": [
    "import numpy as np\n",
    "import pandas as pd\n",
    "from matplotlib import pyplot as plt\n",
    "from sklearn.cluster import KMeans"
   ]
  },
  {
   "cell_type": "markdown",
   "metadata": {},
   "source": [
    "### We need to do the clustering of points which have x coordinate as log_width and y coordinate as log_height"
   ]
  },
  {
   "cell_type": "code",
   "execution_count": 49,
   "metadata": {},
   "outputs": [],
   "source": [
    "# we will fit this in K means\n",
    "X = df[['log_width', 'log_height']].to_numpy()"
   ]
  },
  {
   "cell_type": "markdown",
   "metadata": {},
   "source": [
    "## We need to calculate the IOU metric"
   ]
  },
  {
   "cell_type": "markdown",
   "metadata": {},
   "source": [
    "#### Intersection over Union is an evaluation metric used to measure the accuracy of an object detector on a particular dataset."
   ]
  },
  {
   "cell_type": "markdown",
   "metadata": {},
   "source": [
    "### Compute the different numbers of clusters and compute the mean of maximum IOU between bounding boxes and individual anchors."
   ]
  },
  {
   "cell_type": "markdown",
   "metadata": {},
   "source": [
    "####  And then Plot centroids vs mean IOU."
   ]
  },
  {
   "cell_type": "code",
   "execution_count": 65,
   "metadata": {},
   "outputs": [],
   "source": [
    "#created the IOU function\n",
    "# refer ---> https://lars76.github.io/object-detection/k-means-anchor-boxes/#references\n",
    "def iou(box, clusters):\n",
    "    x = np.minimum(np.exp(clusters[:, 0]), np.exp(box[0]))\n",
    "    y = np.minimum(np.exp(clusters[:, 1]), np.exp(box[1]))\n",
    "\n",
    "    intersection = x * y\n",
    "    box_area = np.exp(box[0]) * np.exp(box[1])\n",
    "    cluster_area = np.exp(clusters[:, 0]) * np.exp(clusters[:, 1])\n",
    "\n",
    "    iou_ = intersection / (box_area + cluster_area - intersection)\n",
    "\n",
    "    return (np.max(iou_),np.argmax(iou_))"
   ]
  },
  {
   "cell_type": "markdown",
   "metadata": {},
   "source": [
    "### Applying K Means Algorithm"
   ]
  },
  {
   "cell_type": "code",
   "execution_count": 66,
   "metadata": {},
   "outputs": [],
   "source": [
    "mean_maxiou = []\n",
    "cluster_centroid = {}\n",
    "wcss = []\n",
    "\n",
    "for k in range(1,11):\n",
    "    model = KMeans(n_clusters = k).fit(X)\n",
    "    cluster_centroid[k] = model.cluster_centers_\n",
    "    wcss.append(model.inertia_)\n",
    "    maxiou = np.array([iou(b_box, cluster_centroid[k])  for b_box in X])\n",
    "    mean_maxiou.append(np.mean(maxiou[:, 0]))"
   ]
  },
  {
   "cell_type": "code",
   "execution_count": null,
   "metadata": {},
   "outputs": [],
   "source": []
  },
  {
   "cell_type": "code",
   "execution_count": 67,
   "metadata": {},
   "outputs": [],
   "source": [
    "def plotIOU(X, Y):\n",
    "  plt.scatter(X, Y)\n",
    "  plt.plot(X, Y)\n",
    "  plt.xlabel(\"Cluster centroid\")\n",
    "  plt.ylabel(\"Mean Max IOU\")\n",
    "  plt.xticks(np.arange(1, 11))\n",
    "  plt.show()"
   ]
  },
  {
   "cell_type": "code",
   "execution_count": 68,
   "metadata": {},
   "outputs": [
    {
     "data": {
      "image/png": "[encoded data removed]",
      "text/plain": [
       "<Figure size 432x288 with 1 Axes>"
      ]
     },
     "metadata": {
      "needs_background": "light"
     },
     "output_type": "display_data"
    }
   ],
   "source": [
    "plotIOU(range(1,11), mean_maxiou)"
   ]
  },
  {
   "cell_type": "code",
   "execution_count": 69,
   "metadata": {},
   "outputs": [],
   "source": [
    "def plotWcss(X, Y):\n",
    "  plt.scatter(X, Y)\n",
    "  plt.plot(X, Y)\n",
    "  plt.xlabel(\"Cluster centroid\")\n",
    "  plt.ylabel(\"WCSS\")\n",
    "  plt.xticks(np.arange(1, 11))\n",
    "  plt.show()"
   ]
  },
  {
   "cell_type": "code",
   "execution_count": 70,
   "metadata": {},
   "outputs": [
    {
     "data": {
      "image/png": "[encoded data removed]",
      "text/plain": [
       "<Figure size 432x288 with 1 Axes>"
      ]
     },
     "metadata": {
      "needs_background": "light"
     },
     "output_type": "display_data"
    }
   ],
   "source": [
    "plotWcss(range(1,11), wcss)"
   ]
  },
  {
   "cell_type": "markdown",
   "metadata": {},
   "source": [
    "#### From above two graphs k=3 is the best choice."
   ]
  },
  {
   "cell_type": "markdown",
   "metadata": {},
   "source": [
    "### Visualizing Clusters"
   ]
  },
  {
   "cell_type": "markdown",
   "metadata": {},
   "source": [
    "### K=3"
   ]
  },
  {
   "cell_type": "code",
   "execution_count": 72,
   "metadata": {},
   "outputs": [
    {
     "data": {
      "image/png": "[encoded data removed]",
      "text/plain": [
       "<Figure size 432x288 with 1 Axes>"
      ]
     },
     "metadata": {
      "needs_background": "light"
     },
     "output_type": "display_data"
    }
   ],
   "source": [
    "import seaborn as sns\n",
    "\n",
    "model = KMeans(n_clusters=3, init='k-means++', max_iter=300, n_init=10, random_state=0)\n",
    "pred_y = model.fit_predict(X)\n",
    "\n",
    "legend = []\n",
    "for i in np.unique(pred_y):\n",
    "    legend.append('Cluster {0}'.format(i))\n",
    "    \n",
    "    \n",
    "plt.scatter(X[:,0], X[:,1], c=model.fit(X).labels_.astype(float))\n",
    "plt.scatter(model.cluster_centers_[:, 0], model.cluster_centers_[:, 1], s=300, c='blue')\n",
    "plt.xlabel(\"Normalised bbox width\")\n",
    "plt.ylabel(\"Normalised bbox height\")\n",
    "plt.title(\"K-Means cluster on anchor box dimensions\")\n",
    "plt.show()"
   ]
  },
  {
   "cell_type": "markdown",
   "metadata": {},
   "source": [
    "### Let's try for k=5"
   ]
  },
  {
   "cell_type": "code",
   "execution_count": 73,
   "metadata": {},
   "outputs": [
    {
     "data": {
      "image/png": "[encoded data removed]",
      "text/plain": [
       "<Figure size 432x288 with 1 Axes>"
      ]
     },
     "metadata": {
      "needs_background": "light"
     },
     "output_type": "display_data"
    }
   ],
   "source": [
    "import seaborn as sns\n",
    "\n",
    "model = KMeans(n_clusters=5, init='k-means++', max_iter=300, n_init=10, random_state=0)\n",
    "pred_y = model.fit_predict(X)\n",
    "\n",
    "legend = []\n",
    "for i in np.unique(pred_y):\n",
    "    legend.append('Cluster {0}'.format(i))\n",
    "    \n",
    "    \n",
    "plt.scatter(X[:,0], X[:,1], c=model.fit(X).labels_.astype(float))\n",
    "plt.scatter(model.cluster_centers_[:, 0], model.cluster_centers_[:, 1], s=300, c='blue')\n",
    "plt.xlabel(\"Normalised bbox width\")\n",
    "plt.ylabel(\"Normalised bbox height\")\n",
    "plt.title(\"K-Means cluster on anchor box dimensions\")\n",
    "plt.show()"
   ]
  },
  {
   "cell_type": "markdown",
   "metadata": {},
   "source": [
    "### Number of clusters = 3 is the best number of clusters."
   ]
  },
  {
   "cell_type": "code",
   "execution_count": null,
   "metadata": {},
   "outputs": [],
   "source": []
  }
 ],
 "metadata": {
  "kernelspec": {
   "display_name": "Python 3",
   "language": "python",
   "name": "python3"
  },
  "language_info": {
   "codemirror_mode": {
    "name": "ipython",
    "version": 3
   },
   "file_extension": ".py",
   "mimetype": "text/x-python",
   "name": "python",
   "nbconvert_exporter": "python",
   "pygments_lexer": "ipython3",
   "version": "3.7.3"
  }
 },
 "nbformat": 4,
 "nbformat_minor": 2
}
